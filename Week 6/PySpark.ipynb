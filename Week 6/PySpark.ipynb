{
 "cells": [
  {
   "cell_type": "markdown",
   "metadata": {},
   "source": [
    "# Movie Recommender Engine - 4\n",
    "Data - Amazaon Movies and TV"
   ]
  },
  {
   "cell_type": "markdown",
   "metadata": {},
   "source": [
    "## PySpark\n",
    "PySpark powered Collaborative Filtering Approach to Recommendations"
   ]
  },
  {
   "cell_type": "code",
   "execution_count": 7,
   "metadata": {},
   "outputs": [],
   "source": [
    "import pandas as pd\n",
    "import numpy as np\n",
    "import tensorflow as tf\n",
    "from tensorflow.keras.preprocessing import sequence\n",
    "from tensorflow.keras.models import Sequential\n",
    "from tensorflow.keras.layers import Dense, Embedding\n",
    "from tensorflow.keras.layers import LSTM"
   ]
  },
  {
   "cell_type": "code",
   "execution_count": 8,
   "metadata": {},
   "outputs": [
    {
     "data": {
      "text/plain": [
       "'/Users/siddharthmandgi/Desktop/2020-Summer-Honors-Home/Week 6'"
      ]
     },
     "execution_count": 8,
     "metadata": {},
     "output_type": "execute_result"
    }
   ],
   "source": [
    "pwd"
   ]
  },
  {
   "cell_type": "code",
   "execution_count": 56,
   "metadata": {},
   "outputs": [
    {
     "data": {
      "text/html": [
       "<div>\n",
       "<style scoped>\n",
       "    .dataframe tbody tr th:only-of-type {\n",
       "        vertical-align: middle;\n",
       "    }\n",
       "\n",
       "    .dataframe tbody tr th {\n",
       "        vertical-align: top;\n",
       "    }\n",
       "\n",
       "    .dataframe thead th {\n",
       "        text-align: right;\n",
       "    }\n",
       "</style>\n",
       "<table border=\"1\" class=\"dataframe\">\n",
       "  <thead>\n",
       "    <tr style=\"text-align: right;\">\n",
       "      <th></th>\n",
       "      <th>User_index</th>\n",
       "      <th>reviewerID</th>\n",
       "      <th>Movie_ID</th>\n",
       "      <th>reviewerName</th>\n",
       "      <th>helpful</th>\n",
       "      <th>reviewText</th>\n",
       "      <th>ratings</th>\n",
       "      <th>summary</th>\n",
       "      <th>unixReviewTime</th>\n",
       "      <th>reviewTime</th>\n",
       "    </tr>\n",
       "  </thead>\n",
       "  <tbody>\n",
       "    <tr>\n",
       "      <th>0</th>\n",
       "      <td>0</td>\n",
       "      <td>ADZPIG9QOCDG5</td>\n",
       "      <td>0005019281</td>\n",
       "      <td>Alice L. Larson \"alice-loves-books\"</td>\n",
       "      <td>[0, 0]</td>\n",
       "      <td>This is a charming version of the classic Dick...</td>\n",
       "      <td>4</td>\n",
       "      <td>good version of a classic</td>\n",
       "      <td>1203984000</td>\n",
       "      <td>02 26, 2008</td>\n",
       "    </tr>\n",
       "    <tr>\n",
       "      <th>1</th>\n",
       "      <td>1</td>\n",
       "      <td>A35947ZP82G7JH</td>\n",
       "      <td>0005019281</td>\n",
       "      <td>Amarah Strack</td>\n",
       "      <td>[0, 0]</td>\n",
       "      <td>It was good but not as emotionally moving as t...</td>\n",
       "      <td>3</td>\n",
       "      <td>Good but not as moving</td>\n",
       "      <td>1388361600</td>\n",
       "      <td>12 30, 2013</td>\n",
       "    </tr>\n",
       "    <tr>\n",
       "      <th>2</th>\n",
       "      <td>2</td>\n",
       "      <td>A3UORV8A9D5L2E</td>\n",
       "      <td>0005019281</td>\n",
       "      <td>Amazon Customer</td>\n",
       "      <td>[0, 0]</td>\n",
       "      <td>Don't get me wrong, Winkler is a wonderful cha...</td>\n",
       "      <td>3</td>\n",
       "      <td>Winkler's Performance was ok at best!</td>\n",
       "      <td>1388361600</td>\n",
       "      <td>12 30, 2013</td>\n",
       "    </tr>\n",
       "    <tr>\n",
       "      <th>3</th>\n",
       "      <td>3</td>\n",
       "      <td>A1VKW06X1O2X7V</td>\n",
       "      <td>0005019281</td>\n",
       "      <td>Amazon Customer \"Softmill\"</td>\n",
       "      <td>[0, 0]</td>\n",
       "      <td>Henry Winkler is very good in this twist on th...</td>\n",
       "      <td>5</td>\n",
       "      <td>It's an enjoyable twist on the classic story</td>\n",
       "      <td>1202860800</td>\n",
       "      <td>02 13, 2008</td>\n",
       "    </tr>\n",
       "    <tr>\n",
       "      <th>4</th>\n",
       "      <td>4</td>\n",
       "      <td>A3R27T4HADWFFJ</td>\n",
       "      <td>0005019281</td>\n",
       "      <td>BABE</td>\n",
       "      <td>[0, 0]</td>\n",
       "      <td>This is one of the best Scrooge movies out.  H...</td>\n",
       "      <td>4</td>\n",
       "      <td>Best Scrooge yet</td>\n",
       "      <td>1387670400</td>\n",
       "      <td>12 22, 2013</td>\n",
       "    </tr>\n",
       "    <tr>\n",
       "      <th>...</th>\n",
       "      <td>...</td>\n",
       "      <td>...</td>\n",
       "      <td>...</td>\n",
       "      <td>...</td>\n",
       "      <td>...</td>\n",
       "      <td>...</td>\n",
       "      <td>...</td>\n",
       "      <td>...</td>\n",
       "      <td>...</td>\n",
       "      <td>...</td>\n",
       "    </tr>\n",
       "    <tr>\n",
       "      <th>1697528</th>\n",
       "      <td>1697528</td>\n",
       "      <td>AV657BUYHHXZ2</td>\n",
       "      <td>B00LT1JHLW</td>\n",
       "      <td>Mike Rules \"Mike\"</td>\n",
       "      <td>[1, 14]</td>\n",
       "      <td>wow $269.99 for the entire series on Blu Ray??...</td>\n",
       "      <td>1</td>\n",
       "      <td>Way to Expensive!! WB = GREED</td>\n",
       "      <td>1406073600</td>\n",
       "      <td>07 23, 2014</td>\n",
       "    </tr>\n",
       "    <tr>\n",
       "      <th>1697529</th>\n",
       "      <td>1697529</td>\n",
       "      <td>A17W587EH23J0Q</td>\n",
       "      <td>B00LT1JHLW</td>\n",
       "      <td>Ron2900 \"Ron\"</td>\n",
       "      <td>[32, 48]</td>\n",
       "      <td>Finally, the holy grail of tv-on-dvd boxsets i...</td>\n",
       "      <td>5</td>\n",
       "      <td>HOLY BAT-BOXSET, BATMAN... I never thought thi...</td>\n",
       "      <td>1405641600</td>\n",
       "      <td>07 18, 2014</td>\n",
       "    </tr>\n",
       "    <tr>\n",
       "      <th>1697530</th>\n",
       "      <td>1697530</td>\n",
       "      <td>A3DE438TF1A958</td>\n",
       "      <td>B00LT1JHLW</td>\n",
       "      <td>thomas henry</td>\n",
       "      <td>[3, 10]</td>\n",
       "      <td>Could this be a true or I'm i dreaming batman ...</td>\n",
       "      <td>5</td>\n",
       "      <td>prayers have been answered because batman 60s ...</td>\n",
       "      <td>1405728000</td>\n",
       "      <td>07 19, 2014</td>\n",
       "    </tr>\n",
       "    <tr>\n",
       "      <th>1697531</th>\n",
       "      <td>1697531</td>\n",
       "      <td>A2RWCXDMANY0LW</td>\n",
       "      <td>B00LT1JHLW</td>\n",
       "      <td>wheev</td>\n",
       "      <td>[0, 4]</td>\n",
       "      <td>I've been a fan of the series since I was a yo...</td>\n",
       "      <td>5</td>\n",
       "      <td>can't Wait!</td>\n",
       "      <td>1405987200</td>\n",
       "      <td>07 22, 2014</td>\n",
       "    </tr>\n",
       "    <tr>\n",
       "      <th>1697532</th>\n",
       "      <td>1697532</td>\n",
       "      <td>A3ROPC55BE2OM9</td>\n",
       "      <td>B00LT1JHLW</td>\n",
       "      <td>WingLT</td>\n",
       "      <td>[11, 23]</td>\n",
       "      <td>People seriously need to wake up and realize t...</td>\n",
       "      <td>5</td>\n",
       "      <td>The Price is Insane? People Really Need to Wak...</td>\n",
       "      <td>1405728000</td>\n",
       "      <td>07 19, 2014</td>\n",
       "    </tr>\n",
       "  </tbody>\n",
       "</table>\n",
       "<p>1697533 rows × 10 columns</p>\n",
       "</div>"
      ],
      "text/plain": [
       "         User_index      reviewerID    Movie_ID  \\\n",
       "0                 0   ADZPIG9QOCDG5  0005019281   \n",
       "1                 1  A35947ZP82G7JH  0005019281   \n",
       "2                 2  A3UORV8A9D5L2E  0005019281   \n",
       "3                 3  A1VKW06X1O2X7V  0005019281   \n",
       "4                 4  A3R27T4HADWFFJ  0005019281   \n",
       "...             ...             ...         ...   \n",
       "1697528     1697528   AV657BUYHHXZ2  B00LT1JHLW   \n",
       "1697529     1697529  A17W587EH23J0Q  B00LT1JHLW   \n",
       "1697530     1697530  A3DE438TF1A958  B00LT1JHLW   \n",
       "1697531     1697531  A2RWCXDMANY0LW  B00LT1JHLW   \n",
       "1697532     1697532  A3ROPC55BE2OM9  B00LT1JHLW   \n",
       "\n",
       "                                reviewerName   helpful  \\\n",
       "0        Alice L. Larson \"alice-loves-books\"    [0, 0]   \n",
       "1                              Amarah Strack    [0, 0]   \n",
       "2                            Amazon Customer    [0, 0]   \n",
       "3                 Amazon Customer \"Softmill\"    [0, 0]   \n",
       "4                                       BABE    [0, 0]   \n",
       "...                                      ...       ...   \n",
       "1697528                    Mike Rules \"Mike\"   [1, 14]   \n",
       "1697529                        Ron2900 \"Ron\"  [32, 48]   \n",
       "1697530                         thomas henry   [3, 10]   \n",
       "1697531                                wheev    [0, 4]   \n",
       "1697532                               WingLT  [11, 23]   \n",
       "\n",
       "                                                reviewText  ratings  \\\n",
       "0        This is a charming version of the classic Dick...        4   \n",
       "1        It was good but not as emotionally moving as t...        3   \n",
       "2        Don't get me wrong, Winkler is a wonderful cha...        3   \n",
       "3        Henry Winkler is very good in this twist on th...        5   \n",
       "4        This is one of the best Scrooge movies out.  H...        4   \n",
       "...                                                    ...      ...   \n",
       "1697528  wow $269.99 for the entire series on Blu Ray??...        1   \n",
       "1697529  Finally, the holy grail of tv-on-dvd boxsets i...        5   \n",
       "1697530  Could this be a true or I'm i dreaming batman ...        5   \n",
       "1697531  I've been a fan of the series since I was a yo...        5   \n",
       "1697532  People seriously need to wake up and realize t...        5   \n",
       "\n",
       "                                                   summary  unixReviewTime  \\\n",
       "0                                good version of a classic      1203984000   \n",
       "1                                   Good but not as moving      1388361600   \n",
       "2                    Winkler's Performance was ok at best!      1388361600   \n",
       "3             It's an enjoyable twist on the classic story      1202860800   \n",
       "4                                         Best Scrooge yet      1387670400   \n",
       "...                                                    ...             ...   \n",
       "1697528                      Way to Expensive!! WB = GREED      1406073600   \n",
       "1697529  HOLY BAT-BOXSET, BATMAN... I never thought thi...      1405641600   \n",
       "1697530  prayers have been answered because batman 60s ...      1405728000   \n",
       "1697531                                        can't Wait!      1405987200   \n",
       "1697532  The Price is Insane? People Really Need to Wak...      1405728000   \n",
       "\n",
       "          reviewTime  \n",
       "0        02 26, 2008  \n",
       "1        12 30, 2013  \n",
       "2        12 30, 2013  \n",
       "3        02 13, 2008  \n",
       "4        12 22, 2013  \n",
       "...              ...  \n",
       "1697528  07 23, 2014  \n",
       "1697529  07 18, 2014  \n",
       "1697530  07 19, 2014  \n",
       "1697531  07 22, 2014  \n",
       "1697532  07 19, 2014  \n",
       "\n",
       "[1697533 rows x 10 columns]"
      ]
     },
     "execution_count": 56,
     "metadata": {},
     "output_type": "execute_result"
    }
   ],
   "source": [
    "df = pd.read_csv(\"/Users/siddharthmandgi/Desktop/2020-Summer-Honors-Home/Datasets/Amazon_Movies.csv\")\n",
    "df = df.rename(columns = {\"Unnamed: 0\": \"User_index\"})\n",
    "df = df.rename(columns = {\"asin\" : \"Movie_ID\", \"overall\" : \"ratings\" })\n",
    "df['ratings'] = df['ratings'].astype(int)\n",
    "ratings = df['ratings'].unique().tolist()\n",
    "df"
   ]
  },
  {
   "cell_type": "code",
   "execution_count": 57,
   "metadata": {},
   "outputs": [],
   "source": [
    "def partition(x):\n",
    "    if x<3:\n",
    "        return 'Negative'\n",
    "    elif x>3:\n",
    "        return 'Positive'\n",
    "    return 'Neutral'\n",
    "\n",
    "actualScore = df['ratings']\n",
    "positiveNegative = actualScore.map(partition)\n",
    "df['sentiment'] = positiveNegative"
   ]
  },
  {
   "cell_type": "code",
   "execution_count": 58,
   "metadata": {},
   "outputs": [
    {
     "data": {
      "text/plain": [
       "50052"
      ]
     },
     "execution_count": 58,
     "metadata": {},
     "output_type": "execute_result"
    }
   ],
   "source": [
    "import numpy as np\n",
    "len(np.unique(df['Movie_ID']))"
   ]
  },
  {
   "cell_type": "code",
   "execution_count": 74,
   "metadata": {},
   "outputs": [],
   "source": [
    "df1 = df[['reviewerID','Movie_ID','ratings']]\n",
    "df1 = df1.dropna() "
   ]
  },
  {
   "cell_type": "code",
   "execution_count": 76,
   "metadata": {},
   "outputs": [
    {
     "data": {
      "text/html": [
       "<div>\n",
       "<style scoped>\n",
       "    .dataframe tbody tr th:only-of-type {\n",
       "        vertical-align: middle;\n",
       "    }\n",
       "\n",
       "    .dataframe tbody tr th {\n",
       "        vertical-align: top;\n",
       "    }\n",
       "\n",
       "    .dataframe thead th {\n",
       "        text-align: right;\n",
       "    }\n",
       "</style>\n",
       "<table border=\"1\" class=\"dataframe\">\n",
       "  <thead>\n",
       "    <tr style=\"text-align: right;\">\n",
       "      <th></th>\n",
       "      <th>reviewerID</th>\n",
       "      <th>Movie_ID</th>\n",
       "      <th>ratings</th>\n",
       "    </tr>\n",
       "  </thead>\n",
       "  <tbody>\n",
       "    <tr>\n",
       "      <th>0</th>\n",
       "      <td>ADZPIG9QOCDG5</td>\n",
       "      <td>0005019281</td>\n",
       "      <td>4</td>\n",
       "    </tr>\n",
       "    <tr>\n",
       "      <th>1</th>\n",
       "      <td>A35947ZP82G7JH</td>\n",
       "      <td>0005019281</td>\n",
       "      <td>3</td>\n",
       "    </tr>\n",
       "    <tr>\n",
       "      <th>2</th>\n",
       "      <td>A3UORV8A9D5L2E</td>\n",
       "      <td>0005019281</td>\n",
       "      <td>3</td>\n",
       "    </tr>\n",
       "    <tr>\n",
       "      <th>3</th>\n",
       "      <td>A1VKW06X1O2X7V</td>\n",
       "      <td>0005019281</td>\n",
       "      <td>5</td>\n",
       "    </tr>\n",
       "    <tr>\n",
       "      <th>4</th>\n",
       "      <td>A3R27T4HADWFFJ</td>\n",
       "      <td>0005019281</td>\n",
       "      <td>4</td>\n",
       "    </tr>\n",
       "    <tr>\n",
       "      <th>...</th>\n",
       "      <td>...</td>\n",
       "      <td>...</td>\n",
       "      <td>...</td>\n",
       "    </tr>\n",
       "    <tr>\n",
       "      <th>1697528</th>\n",
       "      <td>AV657BUYHHXZ2</td>\n",
       "      <td>B00LT1JHLW</td>\n",
       "      <td>1</td>\n",
       "    </tr>\n",
       "    <tr>\n",
       "      <th>1697529</th>\n",
       "      <td>A17W587EH23J0Q</td>\n",
       "      <td>B00LT1JHLW</td>\n",
       "      <td>5</td>\n",
       "    </tr>\n",
       "    <tr>\n",
       "      <th>1697530</th>\n",
       "      <td>A3DE438TF1A958</td>\n",
       "      <td>B00LT1JHLW</td>\n",
       "      <td>5</td>\n",
       "    </tr>\n",
       "    <tr>\n",
       "      <th>1697531</th>\n",
       "      <td>A2RWCXDMANY0LW</td>\n",
       "      <td>B00LT1JHLW</td>\n",
       "      <td>5</td>\n",
       "    </tr>\n",
       "    <tr>\n",
       "      <th>1697532</th>\n",
       "      <td>A3ROPC55BE2OM9</td>\n",
       "      <td>B00LT1JHLW</td>\n",
       "      <td>5</td>\n",
       "    </tr>\n",
       "  </tbody>\n",
       "</table>\n",
       "<p>1697533 rows × 3 columns</p>\n",
       "</div>"
      ],
      "text/plain": [
       "             reviewerID    Movie_ID  ratings\n",
       "0         ADZPIG9QOCDG5  0005019281        4\n",
       "1        A35947ZP82G7JH  0005019281        3\n",
       "2        A3UORV8A9D5L2E  0005019281        3\n",
       "3        A1VKW06X1O2X7V  0005019281        5\n",
       "4        A3R27T4HADWFFJ  0005019281        4\n",
       "...                 ...         ...      ...\n",
       "1697528   AV657BUYHHXZ2  B00LT1JHLW        1\n",
       "1697529  A17W587EH23J0Q  B00LT1JHLW        5\n",
       "1697530  A3DE438TF1A958  B00LT1JHLW        5\n",
       "1697531  A2RWCXDMANY0LW  B00LT1JHLW        5\n",
       "1697532  A3ROPC55BE2OM9  B00LT1JHLW        5\n",
       "\n",
       "[1697533 rows x 3 columns]"
      ]
     },
     "execution_count": 76,
     "metadata": {},
     "output_type": "execute_result"
    }
   ],
   "source": [
    "df1"
   ]
  },
  {
   "cell_type": "code",
   "execution_count": 77,
   "metadata": {},
   "outputs": [],
   "source": [
    "df1.to_csv('Amazon_Pyspark.csv',index=False)"
   ]
  },
  {
   "cell_type": "code",
   "execution_count": 78,
   "metadata": {},
   "outputs": [],
   "source": [
    "import pyspark\n",
    "from pyspark.sql import SparkSession\n",
    "import pandas as pd"
   ]
  },
  {
   "cell_type": "code",
   "execution_count": 79,
   "metadata": {},
   "outputs": [],
   "source": [
    "MAX_MEMORY = \"10g\"\n",
    "\n",
    "spark = SparkSession \\\n",
    "    .builder \\\n",
    "    .appName(\"Foo\") \\\n",
    "    .config(\"spark.executor.memory\", MAX_MEMORY) \\\n",
    "    .config(\"spark.driver.memory\", MAX_MEMORY) \\\n",
    "    .getOrCreate()"
   ]
  },
  {
   "cell_type": "code",
   "execution_count": 80,
   "metadata": {},
   "outputs": [],
   "source": [
    "from pyspark.sql import SQLContext\n",
    "sqlCtx = SQLContext(spark)"
   ]
  },
  {
   "cell_type": "code",
   "execution_count": 81,
   "metadata": {},
   "outputs": [],
   "source": [
    "#So you dont have to preporcess the data again and again\n",
    "df_spark = spark.read.csv('/Users/siddharthmandgi/Desktop/2020-Summer-Honors-Home/Week 6/Amazon_Pyspark.csv', header = True)"
   ]
  },
  {
   "cell_type": "code",
   "execution_count": 82,
   "metadata": {
    "scrolled": true
   },
   "outputs": [
    {
     "data": {
      "text/plain": [
       "1697533"
      ]
     },
     "execution_count": 82,
     "metadata": {},
     "output_type": "execute_result"
    }
   ],
   "source": [
    "df_spark.count()"
   ]
  },
  {
   "cell_type": "code",
   "execution_count": 103,
   "metadata": {},
   "outputs": [
    {
     "data": {
      "text/plain": [
       "Row(reviewerID='ADZPIG9QOCDG5', Movie_ID='0005019281', ratings=4)"
      ]
     },
     "execution_count": 103,
     "metadata": {},
     "output_type": "execute_result"
    }
   ],
   "source": [
    "df_spark.head()"
   ]
  },
  {
   "cell_type": "code",
   "execution_count": 84,
   "metadata": {},
   "outputs": [
    {
     "name": "stdout",
     "output_type": "stream",
     "text": [
      "root\n",
      " |-- reviewerID: string (nullable = true)\n",
      " |-- Movie_ID: string (nullable = true)\n",
      " |-- ratings: string (nullable = true)\n",
      "\n"
     ]
    }
   ],
   "source": [
    "df_spark.printSchema()"
   ]
  },
  {
   "cell_type": "code",
   "execution_count": 102,
   "metadata": {},
   "outputs": [
    {
     "name": "stdout",
     "output_type": "stream",
     "text": [
      "root\n",
      " |-- reviewerID: string (nullable = true)\n",
      " |-- Movie_ID: string (nullable = true)\n",
      " |-- ratings: integer (nullable = true)\n",
      "\n"
     ]
    }
   ],
   "source": [
    "from pyspark.sql.types import IntegerType\n",
    "df_spark = df_spark.withColumn(\"ratings\", df_spark[\"ratings\"].cast(IntegerType()))\n",
    "df_spark.printSchema()"
   ]
  },
  {
   "cell_type": "code",
   "execution_count": 104,
   "metadata": {},
   "outputs": [],
   "source": [
    "from pyspark.ml.evaluation import RegressionEvaluator\n",
    "from pyspark.ml.recommendation import ALS"
   ]
  },
  {
   "cell_type": "code",
   "execution_count": 105,
   "metadata": {},
   "outputs": [
    {
     "name": "stdout",
     "output_type": "stream",
     "text": [
      "+--------------+----------+-------+--------------+----------------+\n",
      "|    reviewerID|  Movie_ID|ratings|Movie_ID_index|reviewerID_index|\n",
      "+--------------+----------+-------+--------------+----------------+\n",
      "| ADZPIG9QOCDG5|0005019281|      4|        3160.0|         88988.0|\n",
      "|A35947ZP82G7JH|0005019281|      3|        3160.0|        110384.0|\n",
      "|A3UORV8A9D5L2E|0005019281|      3|        3160.0|        116243.0|\n",
      "|A1VKW06X1O2X7V|0005019281|      5|        3160.0|         99627.0|\n",
      "|A3R27T4HADWFFJ|0005019281|      4|        3160.0|         13935.0|\n",
      "|A2L0G56BNOTX6S|0005019281|      5|        3160.0|         80495.0|\n",
      "| A5NYUBEKXFLX5|0005019281|      5|        3160.0|         26406.0|\n",
      "|A2DJ8B8GE4V2VD|0005019281|      5|        3160.0|         79322.0|\n",
      "| AWF2S3UNW9UA0|0005019281|      5|        3160.0|          1733.0|\n",
      "|A3O4UUT83DG3OU|0005019281|      5|        3160.0|         86318.0|\n",
      "|A3TK5Q142X5Q8A|0005019281|      5|        3160.0|        115993.0|\n",
      "|A33EWPXESP9GQH|0005019281|      5|        3160.0|        109907.0|\n",
      "| AG8D804FUG5Y4|0005019281|      3|        3160.0|         89344.0|\n",
      "|A1GHUN5HXMHZ89|0005019281|      5|        3160.0|            25.0|\n",
      "|A3VT62AP8KEK3V|0005019281|      4|        3160.0|         34011.0|\n",
      "| AAM67Y93KTIOL|0005019281|      5|        3160.0|        118096.0|\n",
      "|A1GQF4JDJXBRLH|0005019281|      5|        3160.0|         27516.0|\n",
      "|A13KAQO9F5X0FN|0005019281|      4|        3160.0|         58516.0|\n",
      "|A3UEOL981G9TXY|0005019281|      5|        3160.0|         13005.0|\n",
      "| AZBWH4HLG3JWV|0005019281|      5|        3160.0|         71905.0|\n",
      "+--------------+----------+-------+--------------+----------------+\n",
      "only showing top 20 rows\n",
      "\n"
     ]
    }
   ],
   "source": [
    "from pyspark.ml.feature import StringIndexer\n",
    "from pyspark.ml import Pipeline\n",
    "from pyspark.sql.functions import col\n",
    "indexer = [StringIndexer(inputCol=column, outputCol=column+\"_index\") for column in list(set(df_spark.columns)-set(['ratings'])) ]\n",
    "pipeline = Pipeline(stages=indexer)\n",
    "transformed = pipeline.fit(df_spark).transform(df_spark)\n",
    "transformed.show()"
   ]
  },
  {
   "cell_type": "code",
   "execution_count": 106,
   "metadata": {},
   "outputs": [],
   "source": [
    "(training,test)=transformed.randomSplit([0.8, 0.2])"
   ]
  },
  {
   "cell_type": "code",
   "execution_count": 107,
   "metadata": {},
   "outputs": [],
   "source": [
    "als=ALS(maxIter=5,regParam=0.09,rank=25,userCol=\"reviewerID_index\",itemCol=\"Movie_ID_index\",ratingCol=\"ratings\",coldStartStrategy=\"drop\",nonnegative=True)\n",
    "model=als.fit(training)"
   ]
  },
  {
   "cell_type": "code",
   "execution_count": 109,
   "metadata": {},
   "outputs": [
    {
     "name": "stdout",
     "output_type": "stream",
     "text": [
      "RMSE=1.1630469961379855\n",
      "+--------------+----------+-------+--------------+----------------+----------+\n",
      "|    reviewerID|  Movie_ID|ratings|Movie_ID_index|reviewerID_index|prediction|\n",
      "+--------------+----------+-------+--------------+----------------+----------+\n",
      "| ATS1HA5M3EPZ4|0783239408|      3|         148.0|           897.0| 3.8488202|\n",
      "| AKMXCZXE0KD5H|0783239408|      5|         148.0|          3226.0| 4.4825144|\n",
      "|A1W584W9UW3XEU|0783239408|      5|         148.0|         14423.0| 3.5754397|\n",
      "| AE0E6UII0VSZA|0783239408|      5|         148.0|          2721.0|  4.509235|\n",
      "|A2WN6UJP3KUDRH|0783239408|      5|         148.0|         28893.0| 4.4495144|\n",
      "| AF1VHA7BVWLO1|0783239408|      5|         148.0|         12210.0| 4.5768123|\n",
      "| AQ4NJ2T9PVI3L|0783239408|      5|         148.0|          2914.0|  3.437717|\n",
      "|A1Q239XJPSI44W|0783239408|      1|         148.0|         22236.0| 2.5796769|\n",
      "| AV0OBG2SS1I1R|0783239408|      5|         148.0|          4119.0| 4.6192846|\n",
      "|A2NFTFQYW8GXIQ|0783239408|      3|         148.0|          3441.0|  3.146185|\n",
      "|A19P74MFJ32GK0|0783239408|      2|         148.0|         13288.0| 3.2918146|\n",
      "|A20TJ5P97W5MS1|0783239408|      5|         148.0|           796.0|  4.625739|\n",
      "|A13M1F2ZB4HRX2|0783239408|      2|         148.0|         93041.0| 2.5575066|\n",
      "| A27TC5T7DUWTP|0783239408|      5|         148.0|         28246.0|  4.509152|\n",
      "|A1TVP6C06M6ZKX|0783239408|      3|         148.0|         15583.0|  4.477832|\n",
      "|A2F7KIN0SL00I6|0783239408|      5|         148.0|          3725.0|  4.221965|\n",
      "|A1DMK8K0ISV93P|0783239408|      5|         148.0|         73973.0| 4.0098085|\n",
      "|A2D6IGKSOBQ3K9|0783239408|      5|         148.0|         12662.0| 2.7135124|\n",
      "|A1M9DQDGE07Q0U|0783239408|      4|         148.0|           192.0| 3.2132742|\n",
      "|A2ASIT0JYIGHTA|0783239408|      3|         148.0|           253.0| 3.1256905|\n",
      "+--------------+----------+-------+--------------+----------------+----------+\n",
      "only showing top 20 rows\n",
      "\n"
     ]
    }
   ],
   "source": [
    "evaluator=RegressionEvaluator(metricName=\"rmse\",labelCol=\"ratings\",predictionCol=\"prediction\")\n",
    "predictions=model.transform(test)\n",
    "rmse=evaluator.evaluate(predictions)\n",
    "print(\"RMSE=\"+str(rmse))\n",
    "predictions.show()"
   ]
  },
  {
   "cell_type": "code",
   "execution_count": 110,
   "metadata": {},
   "outputs": [
    {
     "name": "stdout",
     "output_type": "stream",
     "text": [
      "+----------------+--------------------+\n",
      "|reviewerID_index|     recommendations|\n",
      "+----------------+--------------------+\n",
      "|             148|[[22102, 7.525032...|\n",
      "|             463|[[42505, 6.882899...|\n",
      "|             471|[[49301, 6.460155...|\n",
      "|             496|[[49301, 7.932959...|\n",
      "|             833|[[48592, 7.792800...|\n",
      "|            1088|[[49301, 7.74932]...|\n",
      "|            1238|[[47267, 6.549411...|\n",
      "|            1342|[[49301, 8.127285...|\n",
      "|            1580|[[49301, 7.297943...|\n",
      "|            1591|[[47139, 7.110337...|\n",
      "+----------------+--------------------+\n",
      "only showing top 10 rows\n",
      "\n"
     ]
    }
   ],
   "source": [
    "user_recs=model.recommendForAllUsers(20).show(10)"
   ]
  },
  {
   "cell_type": "code",
   "execution_count": null,
   "metadata": {},
   "outputs": [],
   "source": []
  }
 ],
 "metadata": {
  "kernelspec": {
   "display_name": "Python 3",
   "language": "python",
   "name": "python3"
  },
  "language_info": {
   "codemirror_mode": {
    "name": "ipython",
    "version": 3
   },
   "file_extension": ".py",
   "mimetype": "text/x-python",
   "name": "python",
   "nbconvert_exporter": "python",
   "pygments_lexer": "ipython3",
   "version": "3.8.3"
  }
 },
 "nbformat": 4,
 "nbformat_minor": 4
}
